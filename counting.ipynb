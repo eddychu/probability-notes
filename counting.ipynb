{
 "cells": [
  {
   "attachments": {},
   "cell_type": "markdown",
   "id": "91dbe87b",
   "metadata": {},
   "source": [
    "# Counting\n",
    "\n",
    "The ability to count is the fundmental building basis of probability. \n",
    "\n",
    "After all, what probability is, is the ratio of the number of favorable outcomes to the total number of outcomes. that means that if we can count the number of favorable outcomes, and the total number of outcomes, we can calculate the probability of an event. so before we can calculate the probability of an event, we need to do counting correctly.\n",
    "\n",
    "## Product Rule of Counting\n",
    "\n",
    "this rule answers this question: what is possible out there? it enumerates all the possible outcomes of two events.\n",
    "\n",
    "The product rule of counting is the rule that says that if we have two events, and we want to know the number of ways that both events can happen, we multiply the number of ways that the first event can happen, by the number of ways that the second event can happen.\n",
    "\n",
    "how many outcomes are there for rolling a 6 sided die, and then rolling a 6 sided die again? well, there are 6 outcomes for the first roll, and 6 outcomes for the second roll, so there are 6 * 6 = 36 outcomes for rolling a 6 sided die, and then rolling a 6 sided die again.\n",
    "\n",
    "for computer scientist, a more related example is how many bits we need to encode 10 million different values? well, we need 24 bits, because 2^24 = 16,777,216, which is greater than 10 million. so we need 24 bits to encode 10 million different values.\n",
    "\n",
    "\n",
    "\n",
    "## Rule of Sum\n",
    "\n",
    "Mutually exclusive events are events that cannot happen a the same time. \n",
    "\n",
    "it answers this question: what are the odds of A or B happening?\n",
    "\n",
    "if A and B are mutually exclusive, then outcome of A or B is the sum of A and B.\n",
    "\n",
    "if A and B are not mutually exclusive, then the outcome of A or B is the sum of A and B, minus the outcome of A and B.\n",
    "\n",
    "\n",
    "## Combinatorics\n",
    "\n",
    "these two rules are the basis of combinatorics, which is the study of counting.\n",
    "\n",
    "### Permutations of Distinct Objects\n",
    "\n",
    "how many ways can we arrange 3 distinct objects? well, we can arrange them in 3! ways, which is 3 * 2 * 1 = 6 ways.\n",
    "\n",
    "### Permutations of Indistinct Objects\n",
    "\n",
    "how many ways distinct bit strings can be formed from three 0's and three 1's? because the 0's and 1's are indistinct, we can arrange them in 6! / (3! * 3!) ways, which is 20 ways."
   ]
  },
  {
   "cell_type": "code",
   "execution_count": 3,
   "id": "db5b4246",
   "metadata": {},
   "outputs": [
    {
     "name": "stdout",
     "output_type": "stream",
     "text": [
      "20\n"
     ]
    }
   ],
   "source": [
    "from itertools import permutations\n",
    "\n",
    "bit_patterns = permutations([0, 0, 0, 1, 1, 1])\n",
    "print(len(set(bit_patterns)))"
   ]
  },
  {
   "cell_type": "code",
   "execution_count": 4,
   "id": "cb651288",
   "metadata": {},
   "outputs": [
    {
     "name": "stdout",
     "output_type": "stream",
     "text": [
      "34650\n"
     ]
    }
   ],
   "source": [
    "missippi = permutations('mississippi')\n",
    "print(len(set(missippi)))"
   ]
  },
  {
   "attachments": {},
   "cell_type": "markdown",
   "id": "4fb2c228",
   "metadata": {},
   "source": [
    "### Combinations of Distinct Objects\n",
    "\n",
    "this kinds of questions are asked in the context of choosing a subset of distinct objects from a set of n distinct objects.\n",
    "\n",
    "e.g how many ways we can draw three digits from 5 unique numbers 1, 2, 3, 4, 5? "
   ]
  },
  {
   "cell_type": "code",
   "execution_count": 5,
   "id": "4c896aa1",
   "metadata": {},
   "outputs": [
    {
     "data": {
      "text/plain": [
       "[(1, 2, 3),\n",
       " (1, 2, 4),\n",
       " (1, 2, 5),\n",
       " (1, 3, 4),\n",
       " (1, 3, 5),\n",
       " (1, 4, 5),\n",
       " (2, 3, 4),\n",
       " (2, 3, 5),\n",
       " (2, 4, 5),\n",
       " (3, 4, 5)]"
      ]
     },
     "execution_count": 5,
     "metadata": {},
     "output_type": "execute_result"
    }
   ],
   "source": [
    "from itertools import combinations\n",
    "\n",
    "list(combinations([1, 2, 3, 4, 5], 3))"
   ]
  },
  {
   "attachments": {},
   "cell_type": "markdown",
   "id": "c865c169",
   "metadata": {},
   "source": [
    "### Bucketing with Distinct Objects\n",
    "\n",
    "for n distinct objects, we can put them into k buckets, and we can ask how many ways we can do that.\n",
    "\n",
    "think of this way, you have n steps to take, and for each step you have k choices. k choices for the first step, k choices for the second step, and so on. so the total number of ways is k * k * k * ... * k, which is k^n.\n",
    "\n",
    "To some extent, this is a generalization of the product rule of counting.\n",
    "\n",
    "This kinds of problems rise in hashtables, which essentially is trying to distribute n objects into k buckets.\n",
    "\n",
    "### Bucketing with Indistinct Objects\n",
    "\n",
    "suppose you want to place n indistinguishable items into r bucket, an intuitive method is to use the divider method:\n",
    "\n",
    "transform you problem into a permutaion of n + r - 1 objects, where r - 1 is the number of dividers that divide the n objects into r buckets. the formula is (n + r - 1)! / (n! * (r - 1)!).\n",
    "\n",
    "\n",
    "The math behind all these counting problems is pretty straightforward and easy to understand, but the hard part is to be able to detect the pattern and apply the correct formula when dealing with real world problems."
   ]
  }
 ],
 "metadata": {
  "kernelspec": {
   "display_name": "Python 3",
   "language": "python",
   "name": "python3"
  },
  "language_info": {
   "codemirror_mode": {
    "name": "ipython",
    "version": 3
   },
   "file_extension": ".py",
   "mimetype": "text/x-python",
   "name": "python",
   "nbconvert_exporter": "python",
   "pygments_lexer": "ipython3",
   "version": "3.10.10"
  }
 },
 "nbformat": 4,
 "nbformat_minor": 5
}
